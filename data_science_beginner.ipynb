{
 "cells": [
  {
   "cell_type": "code",
   "execution_count": 2,
   "id": "3e1eae90",
   "metadata": {},
   "outputs": [
    {
     "name": "stdout",
     "output_type": "stream",
     "text": [
      "Requirement already satisfied: pandas in /opt/anaconda3/lib/python3.13/site-packages (2.2.3)\n",
      "Requirement already satisfied: numpy in /opt/anaconda3/lib/python3.13/site-packages (2.1.3)\n",
      "Requirement already satisfied: matplotlib in /opt/anaconda3/lib/python3.13/site-packages (3.10.0)\n",
      "Requirement already satisfied: seaborn in /opt/anaconda3/lib/python3.13/site-packages (0.13.2)\n",
      "Requirement already satisfied: scikit-learn in /opt/anaconda3/lib/python3.13/site-packages (1.6.1)\n",
      "Requirement already satisfied: python-dateutil>=2.8.2 in /opt/anaconda3/lib/python3.13/site-packages (from pandas) (2.9.0.post0)\n",
      "Requirement already satisfied: pytz>=2020.1 in /opt/anaconda3/lib/python3.13/site-packages (from pandas) (2024.1)\n",
      "Requirement already satisfied: tzdata>=2022.7 in /opt/anaconda3/lib/python3.13/site-packages (from pandas) (2025.2)\n",
      "Requirement already satisfied: contourpy>=1.0.1 in /opt/anaconda3/lib/python3.13/site-packages (from matplotlib) (1.3.1)\n",
      "Requirement already satisfied: cycler>=0.10 in /opt/anaconda3/lib/python3.13/site-packages (from matplotlib) (0.11.0)\n",
      "Requirement already satisfied: fonttools>=4.22.0 in /opt/anaconda3/lib/python3.13/site-packages (from matplotlib) (4.55.3)\n",
      "Requirement already satisfied: kiwisolver>=1.3.1 in /opt/anaconda3/lib/python3.13/site-packages (from matplotlib) (1.4.8)\n",
      "Requirement already satisfied: packaging>=20.0 in /opt/anaconda3/lib/python3.13/site-packages (from matplotlib) (24.2)\n",
      "Requirement already satisfied: pillow>=8 in /opt/anaconda3/lib/python3.13/site-packages (from matplotlib) (11.1.0)\n",
      "Requirement already satisfied: pyparsing>=2.3.1 in /opt/anaconda3/lib/python3.13/site-packages (from matplotlib) (3.2.0)\n",
      "Requirement already satisfied: scipy>=1.6.0 in /opt/anaconda3/lib/python3.13/site-packages (from scikit-learn) (1.15.3)\n",
      "Requirement already satisfied: joblib>=1.2.0 in /opt/anaconda3/lib/python3.13/site-packages (from scikit-learn) (1.4.2)\n",
      "Requirement already satisfied: threadpoolctl>=3.1.0 in /opt/anaconda3/lib/python3.13/site-packages (from scikit-learn) (3.5.0)\n",
      "Requirement already satisfied: six>=1.5 in /opt/anaconda3/lib/python3.13/site-packages (from python-dateutil>=2.8.2->pandas) (1.17.0)\n"
     ]
    }
   ],
   "source": [
    "!pip install pandas numpy matplotlib seaborn scikit-learn"
   ]
  },
  {
   "cell_type": "code",
   "execution_count": 3,
   "id": "354e084c",
   "metadata": {},
   "outputs": [],
   "source": [
    "import pandas as pd\n",
    "import numpy as np"
   ]
  },
  {
   "cell_type": "code",
   "execution_count": 5,
   "id": "a04f778d",
   "metadata": {},
   "outputs": [
    {
     "name": "stdout",
     "output_type": "stream",
     "text": [
      "Empty DataFrame\n",
      "Columns: []\n",
      "Index: []\n"
     ]
    }
   ],
   "source": [
    "df = pd.DataFrame()\n",
    "print(df)"
   ]
  },
  {
   "cell_type": "code",
   "execution_count": 6,
   "id": "df5bddbd",
   "metadata": {},
   "outputs": [
    {
     "name": "stdout",
     "output_type": "stream",
     "text": [
      "     buah\n",
      "0    aple\n",
      "1  pisang\n",
      "2  mangga\n",
      "3   jeruk\n",
      "4  anggur\n",
      "5    kiwi\n",
      "6   nanas\n"
     ]
    }
   ],
   "source": [
    "lst = ['aple', 'pisang', 'mangga', 'jeruk', 'anggur', 'kiwi', 'nanas']\n",
    "\n",
    "df = pd.DataFrame(lst, columns=['buah'])\n",
    "print(df)"
   ]
  },
  {
   "cell_type": "code",
   "execution_count": 7,
   "id": "e7732bd0",
   "metadata": {},
   "outputs": [
    {
     "name": "stdout",
     "output_type": "stream",
     "text": [
      "     buah  harga  stok\n",
      "0    apel  10000    50\n",
      "1  pisang   5000   100\n",
      "2  mangga  15000    30\n",
      "3   jeruk   8000    80\n",
      "4  anggur  20000    20\n",
      "5    kiwi  25000    15\n",
      "6   nanas  30000    10\n"
     ]
    }
   ],
   "source": [
    "dict_data = {\n",
    "    'buah': ['apel', 'pisang', 'mangga', 'jeruk', 'anggur', 'kiwi', 'nanas'],\n",
    "    'harga': [10000, 5000, 15000, 8000, 20000, 25000, 30000],\n",
    "    'stok': [50, 100, 30, 80, 20, 15, 10]\n",
    "}\n",
    "\n",
    "df = pd.DataFrame(dict_data)\n",
    "print(df)"
   ]
  },
  {
   "cell_type": "code",
   "execution_count": 8,
   "id": "ef1aef98",
   "metadata": {},
   "outputs": [
    {
     "name": "stdout",
     "output_type": "stream",
     "text": [
      "   First Score :  Second Score :  Third Score :\n",
      "0          False           False          False\n",
      "1          False           False          False\n",
      "2          False           False          False\n",
      "3          False           False          False\n",
      "4           True            True           True\n",
      "5          False           False          False\n"
     ]
    }
   ],
   "source": [
    "d = {'First Score :' : [100, 90, 80, 70, np.nan, 60],\n",
    "     'Second Score :' : [30, 45, 56, 78, np.nan, 89],\n",
    "     'Third Score :' : [20, 30, 40, 50, np.nan,60]\n",
    "     }\n",
    "\n",
    "df = pd.DataFrame(d)\n",
    "\n",
    "mv = df.isnull()\n",
    "print(mv)"
   ]
  },
  {
   "cell_type": "code",
   "execution_count": 9,
   "id": "7589a862",
   "metadata": {},
   "outputs": [
    {
     "name": "stdout",
     "output_type": "stream",
     "text": [
      "    First Name Gender  Start Date Last Login Time  Salary  Bonus %  \\\n",
      "20        Lois    NaN   4/22/1995         7:18 PM   64714    4.934   \n",
      "22      Joshua    NaN    3/8/2012         1:58 AM   90816   18.816   \n",
      "27       Scott    NaN   7/11/1991         6:58 PM  122367    5.218   \n",
      "31       Joyce    NaN   2/20/2005         2:40 PM   88657   12.752   \n",
      "41   Christine    NaN   6/28/2015         1:08 AM   66582   11.308   \n",
      "..         ...    ...         ...             ...     ...      ...   \n",
      "961    Antonio    NaN   6/18/1989         9:37 PM  103050    3.050   \n",
      "972     Victor    NaN   7/28/2006         2:49 PM   76381   11.159   \n",
      "985    Stephen    NaN   7/10/1983         8:10 PM   85668    1.909   \n",
      "989     Justin    NaN   2/10/1991         4:58 PM   38344    3.794   \n",
      "995      Henry    NaN  11/23/2014         6:09 AM  132483   16.655   \n",
      "\n",
      "    Senior Management                  Team  \n",
      "20               True                 Legal  \n",
      "22               True       Client Services  \n",
      "27              False                 Legal  \n",
      "31              False               Product  \n",
      "41               True  Business Development  \n",
      "..                ...                   ...  \n",
      "961             False                 Legal  \n",
      "972              True                 Sales  \n",
      "985             False                 Legal  \n",
      "989             False                 Legal  \n",
      "995             False          Distribution  \n",
      "\n",
      "[145 rows x 8 columns]\n"
     ]
    }
   ],
   "source": [
    "d = pd.read_csv('dataset/employees.csv')\n",
    "\n",
    "bool_series = pd.isnull(d[\"Gender\"])\n",
    "missing_gender_data = d[bool_series]\n",
    "print(missing_gender_data)\n"
   ]
  }
 ],
 "metadata": {
  "kernelspec": {
   "display_name": "base",
   "language": "python",
   "name": "python3"
  },
  "language_info": {
   "codemirror_mode": {
    "name": "ipython",
    "version": 3
   },
   "file_extension": ".py",
   "mimetype": "text/x-python",
   "name": "python",
   "nbconvert_exporter": "python",
   "pygments_lexer": "ipython3",
   "version": "3.13.5"
  }
 },
 "nbformat": 4,
 "nbformat_minor": 5
}
